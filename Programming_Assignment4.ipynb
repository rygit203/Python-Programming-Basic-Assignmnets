{
 "cells": [
  {
   "cell_type": "markdown",
   "metadata": {},
   "source": [
    "Q1 - Write a Python Program to Find the Factorial of a Number?"
   ]
  },
  {
   "cell_type": "code",
   "execution_count": 74,
   "metadata": {},
   "outputs": [
    {
     "name": "stdout",
     "output_type": "stream",
     "text": [
      "enter an integer: 45\n",
      "Factors of 45 are :\n",
      "[1, 3, 5, 9, 15, 45]\n"
     ]
    }
   ],
   "source": [
    "#Get user input number\n",
    "num=int(input('enter an integer: '))\n",
    "l=[]\n",
    "if num<0:\n",
    "    print('Factors of {} are :'.format(num))\n",
    "elif num ==0:\n",
    "    print('Factor of 0 is 0')\n",
    "else:\n",
    "    print('Factors of {} are :'.format(num))\n",
    "for i in range(1,abs(num)+1):\n",
    "    if abs(num)%i==0:\n",
    "        #when num is -ve then print -ve and +ve both the factors\n",
    "        if num<0:\n",
    "            l.append(-i)\n",
    "            l.append(i)\n",
    "        else:\n",
    "            l.append(i)\n",
    "            \n",
    "if num!=0:\n",
    "    print(l)   "
   ]
  },
  {
   "cell_type": "markdown",
   "metadata": {},
   "source": [
    "Q2 - Write a Python Program to Display the multiplication Table?"
   ]
  },
  {
   "cell_type": "code",
   "execution_count": 94,
   "metadata": {},
   "outputs": [
    {
     "name": "stdout",
     "output_type": "stream",
     "text": [
      "enter an integer of the table you want: 22\n",
      "Table of 22 is :\n",
      "[22, 44, 66, 88, 110, 132, 154, 176, 198, 220]\n"
     ]
    }
   ],
   "source": [
    "#Get user input number\n",
    "num=int(input('enter an integer of the table you want: '))\n",
    "l=[]\n",
    "if num <= 0:\n",
    "    print('Sorry no table for {} '.format(num))\n",
    "else:\n",
    "    print('Table of {} is :'.format(num))\n",
    "    n=1\n",
    "    for i in range(1,11):\n",
    "        l.append(num*n)\n",
    "        n=n+1\n",
    "    print(l)        \n"
   ]
  },
  {
   "cell_type": "markdown",
   "metadata": {},
   "source": [
    "Q3 - Write a Python Program to Print the Fibonacci sequence?\n"
   ]
  },
  {
   "cell_type": "code",
   "execution_count": 112,
   "metadata": {},
   "outputs": [
    {
     "name": "stdout",
     "output_type": "stream",
     "text": [
      "How many terms? 10\n",
      "0\n",
      "1\n",
      "1\n",
      "2\n",
      "3\n",
      "5\n",
      "8\n",
      "13\n",
      "21\n",
      "34\n"
     ]
    }
   ],
   "source": [
    "# Get user input\n",
    "n = int(input(\"How many terms? \"))\n",
    "a,b=0,1\n",
    "print(a)\n",
    "for i in range(1,n):\n",
    "    a,b=b,a+b\n",
    "    print(a)"
   ]
  },
  {
   "cell_type": "markdown",
   "metadata": {},
   "source": [
    "Q4 - Write a Python Program to Check Armstrong Number?"
   ]
  },
  {
   "cell_type": "code",
   "execution_count": 142,
   "metadata": {},
   "outputs": [
    {
     "name": "stdout",
     "output_type": "stream",
     "text": [
      "enter a number: 371\n",
      "371 is an Armstrong Number\n"
     ]
    }
   ],
   "source": [
    "\"\"\"Armstrong number is a number that is equal to the sum of cubes of its digits. For example 0, 1, 153, 370, 371 \n",
    "and 407 are the Armstrong numbers.\"\"\"\n",
    "\n",
    "n=input('enter a number: ')\n",
    "s=0\n",
    "for i in range(0,len(n)):\n",
    "    s=s+int(n[i])**3\n",
    "if n==str(s):\n",
    "    print('{} is an Armstrong Number'.format(n))\n",
    "else:\n",
    "    print('{} is not an Armstrong Number'.format(n))"
   ]
  },
  {
   "cell_type": "markdown",
   "metadata": {},
   "source": [
    "Q5 - Write a Python Program to Find Armstrong Number in an Interval?"
   ]
  },
  {
   "cell_type": "code",
   "execution_count": null,
   "metadata": {},
   "outputs": [
    {
     "name": "stdout",
     "output_type": "stream",
     "text": [
      "enter range start number: 0\n",
      "enter range end number: 1000000000000\n",
      "0 is an Armstrong Number\n",
      "1 is an Armstrong Number\n",
      "153 is an Armstrong Number\n",
      "370 is an Armstrong Number\n",
      "371 is an Armstrong Number\n",
      "407 is an Armstrong Number\n"
     ]
    }
   ],
   "source": [
    "r1=int(input('enter range start number: '))\n",
    "r2=int(input('enter range end number: '))\n",
    "for num in range(r1,r2+1):\n",
    "    n=str(num)\n",
    "    s=0\n",
    "    for i in range(0,len(n)):\n",
    "        s=s+int(n[i])**3\n",
    "    if num==s:\n",
    "        print('{} is an Armstrong Number'.format(n))\n",
    "    else:\n",
    "        #print('{} is not an Armstrong Number'.format(n))\n",
    "        pass\n"
   ]
  },
  {
   "cell_type": "markdown",
   "metadata": {},
   "source": [
    "Q6 - Write a Python Program to Find the Sum of Natural Numbers?"
   ]
  },
  {
   "cell_type": "code",
   "execution_count": 21,
   "metadata": {},
   "outputs": [
    {
     "name": "stdout",
     "output_type": "stream",
     "text": [
      "enter nth natural number: 9\n",
      "Sum of natural numbers from 1 to 9 is 45.0\n"
     ]
    }
   ],
   "source": [
    "# Natural Numbers are positive integers\n",
    "# A Sum of natural numbers from 1 to n is n(n+1)/2\n",
    "\n",
    "#get user input\n",
    "n=int(input('enter nth natural number: '))\n",
    "sum_of_natural_nos = n*(n+1)/2\n",
    "print('Sum of natural numbers from 1 to {} is {}'.format(n,sum_of_natural_nos))"
   ]
  }
 ],
 "metadata": {
  "kernelspec": {
   "display_name": "Python 3",
   "language": "python",
   "name": "python3"
  },
  "language_info": {
   "codemirror_mode": {
    "name": "ipython",
    "version": 3
   },
   "file_extension": ".py",
   "mimetype": "text/x-python",
   "name": "python",
   "nbconvert_exporter": "python",
   "pygments_lexer": "ipython3",
   "version": "3.8.5"
  }
 },
 "nbformat": 4,
 "nbformat_minor": 4
}
